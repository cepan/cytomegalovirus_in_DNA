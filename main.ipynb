{
 "cells": [
  {
   "cell_type": "markdown",
   "id": "typical-sword",
   "metadata": {},
   "source": [
    "# MATH 189 Project 3\n",
    "## Group 2, Winter 2021\n",
    "\n",
    "Members:\n",
    "- Kasen Teoh\n",
    "- Chung En Pan\n",
    "- Nathan Fallahi\n",
    "- Parsa Ganjooi\n",
    "- Eamon Jarrett-Mann"
   ]
  },
  {
   "cell_type": "markdown",
   "id": "driven-rendering",
   "metadata": {},
   "source": [
    "# Introduction"
   ]
  },
  {
   "cell_type": "markdown",
   "id": "confirmed-spokesman",
   "metadata": {},
   "source": [
    "# Data"
   ]
  },
  {
   "cell_type": "code",
   "execution_count": 3,
   "id": "worthy-shannon",
   "metadata": {},
   "outputs": [],
   "source": [
    "# imports and setup\n",
    "\n",
    "import matplotlib.pyplot as plt\n",
    "import numpy as np\n",
    "import pandas as pd\n",
    "from scipy import stats\n",
    "import seaborn as sns\n",
    "import statsmodels.api as sm\n",
    "import math\n",
    "\n",
    "# this might be useful for cleaning the final submission\n",
    "# import warnings\n",
    "# warnings.filterwarnings(\"ignore\")"
   ]
  },
  {
   "cell_type": "code",
   "execution_count": 12,
   "id": "ceramic-criterion",
   "metadata": {},
   "outputs": [],
   "source": [
    "data = np.loadtxt(\"hcmv.txt\", delimiter=\"\\n\", skiprows=1)"
   ]
  },
  {
   "cell_type": "code",
   "execution_count": 16,
   "id": "manual-evanescence",
   "metadata": {},
   "outputs": [
    {
     "data": {
      "text/plain": [
       "228953.0"
      ]
     },
     "execution_count": 16,
     "metadata": {},
     "output_type": "execute_result"
    }
   ],
   "source": [
    "data[295]"
   ]
  },
  {
   "cell_type": "code",
   "execution_count": null,
   "id": "terminal-rehabilitation",
   "metadata": {},
   "outputs": [],
   "source": []
  }
 ],
 "metadata": {
  "hide_input": false,
  "kernelspec": {
   "display_name": "Python 3",
   "language": "python",
   "name": "python3"
  },
  "language_info": {
   "codemirror_mode": {
    "name": "ipython",
    "version": 3
   },
   "file_extension": ".py",
   "mimetype": "text/x-python",
   "name": "python",
   "nbconvert_exporter": "python",
   "pygments_lexer": "ipython3",
   "version": "3.7.9"
  }
 },
 "nbformat": 4,
 "nbformat_minor": 5
}
